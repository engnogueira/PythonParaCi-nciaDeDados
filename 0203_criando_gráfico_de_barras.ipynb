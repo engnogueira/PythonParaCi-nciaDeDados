{
  "nbformat": 4,
  "nbformat_minor": 0,
  "metadata": {
    "colab": {
      "name": "03_criando_gráfico_de_barras.ipynb",
      "provenance": [],
      "include_colab_link": true
    },
    "kernelspec": {
      "name": "python3",
      "display_name": "Python 3"
    }
  },
  "cells": [
    {
      "cell_type": "markdown",
      "metadata": {
        "id": "view-in-github",
        "colab_type": "text"
      },
      "source": [
        "<a href=\"https://colab.research.google.com/github/engnogueira/PythonParaCienciaDeDados/blob/master/03_criando_gra%CC%81fico_de_barras.ipynb\" target=\"_parent\"><img src=\"https://colab.research.google.com/assets/colab-badge.svg\" alt=\"Open In Colab\"/></a>"
      ]
    },
    {
      "cell_type": "markdown",
      "metadata": {
        "id": "WybmZNzj1VcK",
        "colab_type": "text"
      },
      "source": [
        "# **Capítulo 2 - Visualização de dados**\n",
        "\n",
        "**Seção 3 - Criando gráfico de barras**"
      ]
    },
    {
      "cell_type": "code",
      "metadata": {
        "id": "8gQ5Es7S0whu",
        "colab_type": "code",
        "colab": {}
      },
      "source": [
        "import pandas as pd\n",
        "\n",
        "from matplotlib import pyplot as plt\n",
        "from matplotlib import rcParams\n",
        "import seaborn as sns"
      ],
      "execution_count": 0,
      "outputs": []
    },
    {
      "cell_type": "code",
      "metadata": {
        "id": "MHjnAFwc1kzM",
        "colab_type": "code",
        "colab": {}
      },
      "source": [
        "%matplotlib inline\n",
        "rcParams['figure.figsize'] = 5, 4\n",
        "sns.set_style('whitegrid')"
      ],
      "execution_count": 0,
      "outputs": []
    },
    {
      "cell_type": "markdown",
      "metadata": {
        "id": "itHiT4pw1lxi",
        "colab_type": "text"
      },
      "source": [
        "# **Criando gráficos de barras**\n",
        "\n",
        "**Desenhando um gráfico de barras a partir de uma lista com matplotlib**"
      ]
    },
    {
      "cell_type": "code",
      "metadata": {
        "id": "0Scm0Efn3CYF",
        "colab_type": "code",
        "colab": {
          "base_uri": "https://localhost:8080/",
          "height": 281
        },
        "outputId": "ef3a4d54-0667-4a30-f498-52503d215cde"
      },
      "source": [
        "x = range(1, 10)\n",
        "y = [1, 2, 3, 4, 0, 4, 3, 2, 1]\n",
        "\n",
        "plt.bar(x, y)"
      ],
      "execution_count": 4,
      "outputs": [
        {
          "output_type": "execute_result",
          "data": {
            "text/plain": [
              "<BarContainer object of 9 artists>"
            ]
          },
          "metadata": {
            "tags": []
          },
          "execution_count": 4
        },
        {
          "output_type": "display_data",
          "data": {
            "image/png": "[encoded data removed]",
            "text/plain": [
              "<Figure size 360x288 with 1 Axes>"
            ]
          },
          "metadata": {
            "tags": []
          }
        }
      ]
    },
    {
      "cell_type": "code",
      "metadata": {
        "id": "9TeE9NsG3CKm",
        "colab_type": "code",
        "colab": {}
      },
      "source": [
        ""
      ],
      "execution_count": 0,
      "outputs": []
    },
    {
      "cell_type": "markdown",
      "metadata": {
        "id": "0uT-3hPI3DRJ",
        "colab_type": "text"
      },
      "source": [
        "# **Desenhando um gráfico de barras com um objeto Pandas**"
      ]
    },
    {
      "cell_type": "code",
      "metadata": {
        "id": "myGcOE8X3NUD",
        "colab_type": "code",
        "colab": {
          "base_uri": "https://localhost:8080/",
          "height": 126
        },
        "outputId": "3927ed0b-49f6-4ed4-822c-22e96ebb40ab"
      },
      "source": [
        "# -*- coding: utf-8 -*-\n",
        "# caminho = '/app/notebooks/mtcars.csv'\n",
        "# coding: utf-8\n",
        "caminho = 'C:\\Users\\engno\\OneDrive\\mtcars.csv'\n",
        "carros = pd.read_csv(caminho)\n",
        "carros.columns = ['nomes','mpg','cyl','disp', 'hp', 'drat', 'wt', 'qsec', 'vs', 'am', 'gear', 'carb']\n",
        "mpg = carros['mpg']"
      ],
      "execution_count": 27,
      "outputs": [
        {
          "output_type": "error",
          "ename": "SyntaxError",
          "evalue": "ignored",
          "traceback": [
            "\u001b[0;36m  File \u001b[0;32m\"<ipython-input-27-996b97fa57ee>\"\u001b[0;36m, line \u001b[0;32m1\u001b[0m\n\u001b[0;31m    caminho = 'C:\\Users\\engno\\OneDrive\\mtcars.csv'\u001b[0m\n\u001b[0m             ^\u001b[0m\n\u001b[0;31mSyntaxError\u001b[0m\u001b[0;31m:\u001b[0m (unicode error) 'unicodeescape' codec can't decode bytes in position 2-3: truncated \\UXXXXXXXX escape\n"
          ]
        }
      ]
    },
    {
      "cell_type": "code",
      "metadata": {
        "id": "cCuJ28H93NIp",
        "colab_type": "code",
        "colab": {}
      },
      "source": [
        "mpg.plot(kind='bar')"
      ],
      "execution_count": 0,
      "outputs": []
    },
    {
      "cell_type": "markdown",
      "metadata": {
        "id": "a9gBs5AO3RED",
        "colab_type": "text"
      },
      "source": [
        "# **Salvando um gráfico**"
      ]
    },
    {
      "cell_type": "code",
      "metadata": {
        "id": "HYR7fr4O3M6D",
        "colab_type": "code",
        "colab": {}
      },
      "source": [
        "plt.savefig('grafico_de_barras.png')"
      ],
      "execution_count": 0,
      "outputs": []
    },
    {
      "cell_type": "code",
      "metadata": {
        "id": "hhFTXKr13VqP",
        "colab_type": "code",
        "colab": {}
      },
      "source": [
        "! dir"
      ],
      "execution_count": 0,
      "outputs": []
    },
    {
      "cell_type": "code",
      "metadata": {
        "id": "gd8fLK4y3ViJ",
        "colab_type": "code",
        "colab": {}
      },
      "source": [
        ""
      ],
      "execution_count": 0,
      "outputs": []
    },
    {
      "cell_type": "code",
      "metadata": {
        "id": "BYL0LMhF3VXW",
        "colab_type": "code",
        "colab": {}
      },
      "source": [
        ""
      ],
      "execution_count": 0,
      "outputs": []
    }
  ]
}
