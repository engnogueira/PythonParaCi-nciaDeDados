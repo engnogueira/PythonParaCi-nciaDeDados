{
  "nbformat": 4,
  "nbformat_minor": 0,
  "metadata": {
    "colab": {
      "name": "02_criando_gráficos_de_linha.ipynb",
      "provenance": [],
      "include_colab_link": true
    },
    "kernelspec": {
      "name": "python3",
      "display_name": "Python 3"
    }
  },
  "cells": [
    {
      "cell_type": "markdown",
      "metadata": {
        "id": "view-in-github",
        "colab_type": "text"
      },
      "source": [
        "<a href=\"https://colab.research.google.com/github/engnogueira/PythonParaCienciaDeDados/blob/master/02_criando_gr%C3%A1ficos_de_linha.ipynb\" target=\"_parent\"><img src=\"https://colab.research.google.com/assets/colab-badge.svg\" alt=\"Open In Colab\"/></a>"
      ]
    },
    {
      "cell_type": "markdown",
      "metadata": {
        "id": "Zi-G8X7xCrjy",
        "colab_type": "text"
      },
      "source": [
        "# **Capítulo 2 - Visulização de dados**\n",
        "\n",
        "**Seção 2 - Criando gráficos de linha**"
      ]
    },
    {
      "cell_type": "code",
      "metadata": {
        "id": "49vlrfcLBr5Z",
        "colab_type": "code",
        "colab": {}
      },
      "source": [
        "import pandas as pd\n",
        "\n",
        "from matplotlib import pyplot as plt\n",
        "from matplotlib import rcParams\n",
        "\n",
        "import seaborn as sns"
      ],
      "execution_count": 0,
      "outputs": []
    },
    {
      "cell_type": "code",
      "metadata": {
        "id": "XYjs0sMTCl-4",
        "colab_type": "code",
        "colab": {}
      },
      "source": [
        "%matplotlib inline\n",
        "rcParams['figure.figsize'] = 5,4\n",
        "sns.set_style('whitegrid') "
      ],
      "execution_count": 0,
      "outputs": []
    },
    {
      "cell_type": "markdown",
      "metadata": {
        "id": "nSI5zDtzCXyi",
        "colab_type": "text"
      },
      "source": [
        "# **Criando um gráfico de linha a partir de uma lista**\n",
        "\n",
        "**Desenhando um gráfico de linha usando o matplotlib**"
      ]
    },
    {
      "cell_type": "code",
      "metadata": {
        "id": "gKgFSgVqNP1S",
        "colab_type": "code",
        "colab": {
          "base_uri": "https://localhost:8080/",
          "height": 281
        },
        "outputId": "c88ecb19-f237-48d0-90a3-aa8be472a348"
      },
      "source": [
        "x = range(1, 10)\n",
        "y = [1, 2, 3, 4, 0, 4, 3, 2, 1]\n",
        "plt.plot(x, y)"
      ],
      "execution_count": 8,
      "outputs": [
        {
          "output_type": "execute_result",
          "data": {
            "text/plain": [
              "[<matplotlib.lines.Line2D at 0x7fd22178d198>]"
            ]
          },
          "metadata": {
            "tags": []
          },
          "execution_count": 8
        },
        {
          "output_type": "display_data",
          "data": {
            "image/png": "[encoded data removed]",
            "text/plain": [
              "<Figure size 360x288 with 1 Axes>"
            ]
          },
          "metadata": {
            "tags": []
          }
        }
      ]
    },
    {
      "cell_type": "markdown",
      "metadata": {
        "id": "KCT_QxUXNGWD",
        "colab_type": "text"
      },
      "source": [
        "**Desenhando um gráfico de linha usando um objeto Pandas**"
      ]
    },
    {
      "cell_type": "code",
      "metadata": {
        "id": "elMtkqFQNOs6",
        "colab_type": "code",
        "colab": {
          "base_uri": "https://localhost:8080/",
          "height": 126
        },
        "outputId": "ac23bc31-3b2e-4bcd-d415-add2003c7629"
      },
      "source": [
        "string = str(\" \",\"mpg\",\"cyl\",\"disp\",\"hp\",\"drat\",\"wt\",\"qsec\",\"vs\",\"am\",\"gear\",\"carb\",\n",
        "\"Mazda RX4\",21,6,160,110,3.9,2.62,16.46,0,1,4,4,\n",
        "\"Mazda RX4 Wag\",21,6,160,110,3.9,2.875,17.02,0,1,4,4,\n",
        "\"Hornet 4 Drive\",21.4,6,258,110,3.08,3.215,19.44,1,0,3,1,\n",
        "\"Hornet Sportabout\",18.7,8,360,175,3.15,3.44,17.02,0,0,3,2,\n",
        "\"Valiant\",18.1,6,225,105,2.76,3.46,20.22,1,0,3,1,\n",
        "\"Duster 360\",14.3,8,360,245,3.21,3.57,15.84,0,0,3,4,\n",
        "\"Merc 240D\",24.4,4,146.7,62,3.69,3.19,20,1,0,4,2,\n",
        "\"Merc 230\",22.8,4,140.8,95,3.92,3.15,22.9,1,0,4,2,\n",
        "\"Merc 280\",19.2,6,167.6,123,3.92,3.44,18.3,1,0,4,4,\n",
        "\"Merc 280C\",17.8,6,167.6,123,3.92,3.44,18.9,1,0,4,4,\n",
        "\"Merc 450SE\",16.4,8,275.8,180,3.07,4.07,17.4,0,0,3,3,\n",
        "\"Merc 450SL\",17.3,8,275.8,180,3.07,3.73,17.6,0,0,3,3,\n",
        "\"Merc 450SLC\",15.2,8,275.8,180,3.07,3.78,18,0,0,3,3,\n",
        "\"Cadillac Fleetwood\",10.4,8,472,205,2.93,5.25,17.98,0,0,3,4,\n",
        "\"Lincoln Continental\",10.4,8,460,215,3,5.424,17.82,0,0,3,4,\n",
        "\"Chrysler Imperial\",14.7,8,440,230,3.23,5.345,17.42,0,0,3,4,\n",
        "\"Fiat 128\",32.4,4,78.7,66,4.08,2.2,19.47,1,1,4,1,\n",
        "\"Honda Civic\",30.4,4,75.7,52,4.93,1.615,18.52,1,1,4,2,\n",
        "\"Toyota Corolla\",33.9,4,71.1,65,4.22,1.835,19.9,1,1,4,1,\n",
        "\"Toyota Corona\",21.5,4,120.1,97,3.7,2.465,20.01,1,0,3,1,\n",
        "\"Dodge Challenger\",15.5,8,318,150,2.76,3.52,16.87,0,0,3,2,\n",
        "\"AMC Javelin\",15.2,8,304,150,3.15,3.435,17.3,0,0,3,2,\n",
        "\"Camaro Z28\",13.3,8,350,245,3.73,3.84,15.41,0,0,3,4,\n",
        "\"Pontiac Firebird\",19.2,8,400,175,3.08,3.845,17.05,0,0,3,2,\n",
        "\"Fiat X1-9\",27.3,4,79,66,4.08,1.935,18.9,1,1,4,1,\n",
        "\"Porsche 914-2\",26,4,120.3,91,4.43,2.14,16.7,0,1,5,2,\n",
        "\"Lotus Europa\",30.4,4,95.1,113,3.77,1.513,16.9,1,1,5,2,\n",
        "\"Ford Pantera L\",15.8,8,351,264,4.22,3.17,14.5,0,1,5,4,\n",
        "\"Ferrari Dino\",19.7,6,145,175,3.62,2.77,15.5,0,1,5,6,\n",
        "\"Maserati Bora\",15,8,301,335,3.54,3.57,14.6,0,1,5,8,\n",
        "\"Volvo 142E\",21.4,4,121,109,4.11,2.78,18.6,1,1,4,2)\n",
        "#lista_csv = pd.read_clipboard(',',lista)\n",
        "carros = pd.read_csv(string)\n",
        "carros.columns = ['nomes','mpg','cyl','disp', 'hpt', 'drat', 'wt', 'qsec', 'vs', 'am', 'gear', 'carb']\n",
        "df = carros[['cyl', 'mpg', 'wt']]\n",
        "df.plot\n"
      ],
      "execution_count": 42,
      "outputs": [
        {
          "output_type": "error",
          "ename": "SyntaxError",
          "evalue": "ignored",
          "traceback": [
            "\u001b[0;36m  File \u001b[0;32m\"<ipython-input-42-5dccefea963f>\"\u001b[0;36m, line \u001b[0;32m1\u001b[0m\n\u001b[0;31m    string = str(\" \",\"mpg\",\"cyl\",\"disp\",\"hp\",\"drat\",\"wt\",\"qsec\",\"vs\",\"am\",\"gear\",\"carb\",\u001b[0m\n\u001b[0m                ^\u001b[0m\n\u001b[0;31mSyntaxError\u001b[0m\u001b[0;31m:\u001b[0m more than 255 arguments\n"
          ]
        }
      ]
    }
  ]
}