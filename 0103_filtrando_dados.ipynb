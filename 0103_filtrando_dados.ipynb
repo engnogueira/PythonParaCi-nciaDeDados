{
  "nbformat": 4,
  "nbformat_minor": 0,
  "metadata": {
    "colab": {
      "name": "03_filtrando_dados.ipynb",
      "provenance": [],
      "include_colab_link": true
    },
    "kernelspec": {
      "name": "python3",
      "display_name": "Python 3"
    }
  },
  "cells": [
    {
      "cell_type": "markdown",
      "metadata": {
        "id": "view-in-github",
        "colab_type": "text"
      },
      "source": [
        "<a href=\"https://colab.research.google.com/github/engnogueira/PythonParaCienciaDeDados/blob/master/03_filtrando_dados.ipynb\" target=\"_parent\"><img src=\"https://colab.research.google.com/assets/colab-badge.svg\" alt=\"Open In Colab\"/></a>"
      ]
    },
    {
      "cell_type": "markdown",
      "metadata": {
        "id": "TAj-bJIR7Ttp",
        "colab_type": "text"
      },
      "source": [
        "# **Capítulo 1 - Manipulação de dados : Básico**\n",
        "\n",
        "# Seção 3 - Filtrando dados **bold text**"
      ]
    },
    {
      "cell_type": "code",
      "metadata": {
        "id": "40AMSN-77ImR",
        "colab_type": "code",
        "colab": {}
      },
      "source": [
        "import pandas as pd\n",
        "import numpy as np\n",
        "\n",
        "from pandas import Series, DataFrame"
      ],
      "execution_count": 0,
      "outputs": []
    },
    {
      "cell_type": "code",
      "metadata": {
        "id": "G0xLAd9v7tli",
        "colab_type": "code",
        "colab": {
          "base_uri": "https://localhost:8080/",
          "height": 220
        },
        "outputId": "6099b582-ee4b-4869-c1f0-6881e8478b85"
      },
      "source": [
        "np.random.seed(25)\n",
        "indice = ['linha 1', 'linha 2', 'linha 3', 'linha 4', 'linha 5', 'linha 6']\n",
        "colunas = ['coluna 1', 'coluna 2', 'coluna 3', 'coluna 4', 'coluna 5', 'coluna 6']\n",
        "df = DataFrame(np.random.rand(36).reshape((6,6)), index=indice, columns=colunas)\n",
        "df"
      ],
      "execution_count": 3,
      "outputs": [
        {
          "output_type": "execute_result",
          "data": {
            "text/html": [
              "<div>\n",
              "<style scoped>\n",
              "    .dataframe tbody tr th:only-of-type {\n",
              "        vertical-align: middle;\n",
              "    }\n",
              "\n",
              "    .dataframe tbody tr th {\n",
              "        vertical-align: top;\n",
              "    }\n",
              "\n",
              "    .dataframe thead th {\n",
              "        text-align: right;\n",
              "    }\n",
              "</style>\n",
              "<table border=\"1\" class=\"dataframe\">\n",
              "  <thead>\n",
              "    <tr style=\"text-align: right;\">\n",
              "      <th></th>\n",
              "      <th>coluna 1</th>\n",
              "      <th>coluna 2</th>\n",
              "      <th>coluna 3</th>\n",
              "      <th>coluna 4</th>\n",
              "      <th>coluna 5</th>\n",
              "      <th>coluna 6</th>\n",
              "    </tr>\n",
              "  </thead>\n",
              "  <tbody>\n",
              "    <tr>\n",
              "      <th>linha 1</th>\n",
              "      <td>0.870124</td>\n",
              "      <td>0.582277</td>\n",
              "      <td>0.278839</td>\n",
              "      <td>0.185911</td>\n",
              "      <td>0.411100</td>\n",
              "      <td>0.117376</td>\n",
              "    </tr>\n",
              "    <tr>\n",
              "      <th>linha 2</th>\n",
              "      <td>0.684969</td>\n",
              "      <td>0.437611</td>\n",
              "      <td>0.556229</td>\n",
              "      <td>0.367080</td>\n",
              "      <td>0.402366</td>\n",
              "      <td>0.113041</td>\n",
              "    </tr>\n",
              "    <tr>\n",
              "      <th>linha 3</th>\n",
              "      <td>0.447031</td>\n",
              "      <td>0.585445</td>\n",
              "      <td>0.161985</td>\n",
              "      <td>0.520719</td>\n",
              "      <td>0.326051</td>\n",
              "      <td>0.699186</td>\n",
              "    </tr>\n",
              "    <tr>\n",
              "      <th>linha 4</th>\n",
              "      <td>0.366395</td>\n",
              "      <td>0.836375</td>\n",
              "      <td>0.481343</td>\n",
              "      <td>0.516502</td>\n",
              "      <td>0.383048</td>\n",
              "      <td>0.997541</td>\n",
              "    </tr>\n",
              "    <tr>\n",
              "      <th>linha 5</th>\n",
              "      <td>0.514244</td>\n",
              "      <td>0.559053</td>\n",
              "      <td>0.034450</td>\n",
              "      <td>0.719930</td>\n",
              "      <td>0.421004</td>\n",
              "      <td>0.436935</td>\n",
              "    </tr>\n",
              "    <tr>\n",
              "      <th>linha 6</th>\n",
              "      <td>0.281701</td>\n",
              "      <td>0.900274</td>\n",
              "      <td>0.669612</td>\n",
              "      <td>0.456069</td>\n",
              "      <td>0.289804</td>\n",
              "      <td>0.525819</td>\n",
              "    </tr>\n",
              "  </tbody>\n",
              "</table>\n",
              "</div>"
            ],
            "text/plain": [
              "         coluna 1  coluna 2  coluna 3  coluna 4  coluna 5  coluna 6\n",
              "linha 1  0.870124  0.582277  0.278839  0.185911  0.411100  0.117376\n",
              "linha 2  0.684969  0.437611  0.556229  0.367080  0.402366  0.113041\n",
              "linha 3  0.447031  0.585445  0.161985  0.520719  0.326051  0.699186\n",
              "linha 4  0.366395  0.836375  0.481343  0.516502  0.383048  0.997541\n",
              "linha 5  0.514244  0.559053  0.034450  0.719930  0.421004  0.436935\n",
              "linha 6  0.281701  0.900274  0.669612  0.456069  0.289804  0.525819"
            ]
          },
          "metadata": {
            "tags": []
          },
          "execution_count": 3
        }
      ]
    },
    {
      "cell_type": "markdown",
      "metadata": {
        "id": "RLmIvmXT8J1F",
        "colab_type": "text"
      },
      "source": [
        "# **Comparando com um valor**\n",
        "\n",
        "nome_do_objeto < valor"
      ]
    },
    {
      "cell_type": "code",
      "metadata": {
        "id": "FZ-hZ5LC8UAt",
        "colab_type": "code",
        "colab": {
          "base_uri": "https://localhost:8080/",
          "height": 220
        },
        "outputId": "4388f5d7-7fdc-490d-ab22-2c895ba22787"
      },
      "source": [
        "df < 0.2"
      ],
      "execution_count": 4,
      "outputs": [
        {
          "output_type": "execute_result",
          "data": {
            "text/html": [
              "<div>\n",
              "<style scoped>\n",
              "    .dataframe tbody tr th:only-of-type {\n",
              "        vertical-align: middle;\n",
              "    }\n",
              "\n",
              "    .dataframe tbody tr th {\n",
              "        vertical-align: top;\n",
              "    }\n",
              "\n",
              "    .dataframe thead th {\n",
              "        text-align: right;\n",
              "    }\n",
              "</style>\n",
              "<table border=\"1\" class=\"dataframe\">\n",
              "  <thead>\n",
              "    <tr style=\"text-align: right;\">\n",
              "      <th></th>\n",
              "      <th>coluna 1</th>\n",
              "      <th>coluna 2</th>\n",
              "      <th>coluna 3</th>\n",
              "      <th>coluna 4</th>\n",
              "      <th>coluna 5</th>\n",
              "      <th>coluna 6</th>\n",
              "    </tr>\n",
              "  </thead>\n",
              "  <tbody>\n",
              "    <tr>\n",
              "      <th>linha 1</th>\n",
              "      <td>False</td>\n",
              "      <td>False</td>\n",
              "      <td>False</td>\n",
              "      <td>True</td>\n",
              "      <td>False</td>\n",
              "      <td>True</td>\n",
              "    </tr>\n",
              "    <tr>\n",
              "      <th>linha 2</th>\n",
              "      <td>False</td>\n",
              "      <td>False</td>\n",
              "      <td>False</td>\n",
              "      <td>False</td>\n",
              "      <td>False</td>\n",
              "      <td>True</td>\n",
              "    </tr>\n",
              "    <tr>\n",
              "      <th>linha 3</th>\n",
              "      <td>False</td>\n",
              "      <td>False</td>\n",
              "      <td>True</td>\n",
              "      <td>False</td>\n",
              "      <td>False</td>\n",
              "      <td>False</td>\n",
              "    </tr>\n",
              "    <tr>\n",
              "      <th>linha 4</th>\n",
              "      <td>False</td>\n",
              "      <td>False</td>\n",
              "      <td>False</td>\n",
              "      <td>False</td>\n",
              "      <td>False</td>\n",
              "      <td>False</td>\n",
              "    </tr>\n",
              "    <tr>\n",
              "      <th>linha 5</th>\n",
              "      <td>False</td>\n",
              "      <td>False</td>\n",
              "      <td>True</td>\n",
              "      <td>False</td>\n",
              "      <td>False</td>\n",
              "      <td>False</td>\n",
              "    </tr>\n",
              "    <tr>\n",
              "      <th>linha 6</th>\n",
              "      <td>False</td>\n",
              "      <td>False</td>\n",
              "      <td>False</td>\n",
              "      <td>False</td>\n",
              "      <td>False</td>\n",
              "      <td>False</td>\n",
              "    </tr>\n",
              "  </tbody>\n",
              "</table>\n",
              "</div>"
            ],
            "text/plain": [
              "         coluna 1  coluna 2  coluna 3  coluna 4  coluna 5  coluna 6\n",
              "linha 1     False     False     False      True     False      True\n",
              "linha 2     False     False     False     False     False      True\n",
              "linha 3     False     False      True     False     False     False\n",
              "linha 4     False     False     False     False     False     False\n",
              "linha 5     False     False      True     False     False     False\n",
              "linha 6     False     False     False     False     False     False"
            ]
          },
          "metadata": {
            "tags": []
          },
          "execution_count": 4
        }
      ]
    },
    {
      "cell_type": "markdown",
      "metadata": {
        "id": "l81nE6Fl8afE",
        "colab_type": "text"
      },
      "source": [
        "# **Usando valor escalar para filtrar**\n",
        "\n",
        "nome_do_objeto[nome_do_objeto > valor]"
      ]
    },
    {
      "cell_type": "code",
      "metadata": {
        "id": "hR1K6QGQ8qHe",
        "colab_type": "code",
        "colab": {}
      },
      "source": [
        "indice = ['linha 1', 'linha 2', 'linha 3', 'linha 4',\n",
        "          'linha 5', 'linha 6', 'linha 7', 'linha 8']\n",
        "serie_obj = Series(np.arange(8), index = indice)"
      ],
      "execution_count": 0,
      "outputs": []
    },
    {
      "cell_type": "code",
      "metadata": {
        "id": "dfkovOZH9Sr4",
        "colab_type": "code",
        "colab": {
          "base_uri": "https://localhost:8080/",
          "height": 50
        },
        "outputId": "b287eb3b-6f57-490f-e09d-fde46be6fb42"
      },
      "source": [
        "filtro = serie_obj > 6\n",
        "serie_obj[filtro]"
      ],
      "execution_count": 6,
      "outputs": [
        {
          "output_type": "execute_result",
          "data": {
            "text/plain": [
              "linha 8    7\n",
              "dtype: int64"
            ]
          },
          "metadata": {
            "tags": []
          },
          "execution_count": 6
        }
      ]
    },
    {
      "cell_type": "markdown",
      "metadata": {
        "id": "q-sSUcIW8snD",
        "colab_type": "text"
      },
      "source": [
        "# **Atualizando valores**\n",
        "\n",
        "['indice', 'indice', 'indice'] = valor\n"
      ]
    },
    {
      "cell_type": "code",
      "metadata": {
        "id": "T_UCU4Ep9uPr",
        "colab_type": "code",
        "colab": {
          "base_uri": "https://localhost:8080/",
          "height": 163
        },
        "outputId": "1518cf57-01d2-4b3d-bcf1-810eedb03f75"
      },
      "source": [
        "serie_obj['linha 1', 'linha 5', 'linha 8'] = 8\n",
        "serie_obj"
      ],
      "execution_count": 7,
      "outputs": [
        {
          "output_type": "execute_result",
          "data": {
            "text/plain": [
              "linha 1    8\n",
              "linha 2    1\n",
              "linha 3    2\n",
              "linha 4    3\n",
              "linha 5    8\n",
              "linha 6    5\n",
              "linha 7    6\n",
              "linha 8    8\n",
              "dtype: int64"
            ]
          },
          "metadata": {
            "tags": []
          },
          "execution_count": 7
        }
      ]
    }
  ]
}
